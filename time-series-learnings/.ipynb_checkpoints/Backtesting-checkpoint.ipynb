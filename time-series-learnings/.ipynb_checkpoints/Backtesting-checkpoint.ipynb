{
 "cells": [
  {
   "cell_type": "code",
   "execution_count": 1,
   "id": "8b1836b3-bc52-402a-b898-2e04962e21d1",
   "metadata": {},
   "outputs": [],
   "source": [
    "import yfinance as yf\n",
    "import matplotlib.pyplot as plt\n",
    "import pandas as pd\n",
    "import numpy as np\n",
    "from datetime import date, timedelta, datetime\n",
    "from time import time\n",
    "from scipy.stats import pearsonr\n",
    "from dataclasses import dataclass\n",
    "import seaborn as sns"
   ]
  },
  {
   "cell_type": "code",
   "execution_count": 2,
   "id": "a3ae40ec-872d-4bfc-a1f3-800ef3b1ed09",
   "metadata": {},
   "outputs": [],
   "source": [
    "symbol = 'MSFT'"
   ]
  },
  {
   "cell_type": "markdown",
   "id": "a9c2e1d9-9134-4e5e-8435-95601f0fd1b5",
   "metadata": {},
   "source": [
    "**Driver Code**"
   ]
  },
  {
   "cell_type": "code",
   "execution_count": 3,
   "id": "0e029daa-adcb-45fd-ae5a-047eb1a03460",
   "metadata": {},
   "outputs": [],
   "source": [
    "def date_to_str(d):\n",
    "    return f'{d.year}-{d.month}-{d.day}'"
   ]
  },
  {
   "cell_type": "code",
   "execution_count": 4,
   "id": "ff8afd87-9892-4468-913f-01675581410e",
   "metadata": {},
   "outputs": [],
   "source": [
    "def get_ticker_data(symbol, start=None, end=None):\n",
    "    try:\n",
    "        ticker = yf.Ticker(symbol)\n",
    "        hist = ticker.history(start=start, end=end, interval='1d').Close\n",
    "        hist = hist[~hist.isna()]\n",
    "\n",
    "        #day-to-day price difference\n",
    "        diffs = hist.diff()\n",
    "        hist = hist.reset_index()\n",
    "        hist['price_change'] = diffs.values\n",
    "\n",
    "        #case datetime to date\n",
    "        hist.Date = hist.Date.apply(lambda d: date())\n",
    "    except:\n",
    "        return None\n",
    "    return hist.dropna()"
   ]
  },
  {
   "cell_type": "code",
   "execution_count": 5,
   "id": "10788e04-b7c4-4482-806f-26c56cc64857",
   "metadata": {},
   "outputs": [],
   "source": [
    "class Strategy:\n",
    "    def __init__(self, buy_condition: tuple, sell_condition: tuple):\n",
    "        if type(buy_condition) != tuple or len(buy_condition) != 2 or type(sell_condition) != tuple or len(sell_condition) != 2:\n",
    "            raise Exception('buy_condition and sell_condition should both be size 2 tuples')\n",
    "        buy_dir, buy_periods = buy_condition\n",
    "        sell_dir, sell_periods = sell_condition\n",
    "\n",
    "        buy_sell_dir = ['decrease', 'increase']\n",
    "        if buy_dir not in buy_sell_dir or sell_dir not in buy_sell_dir:\n",
    "            raise Exception('first element of each tuple needs to be one of [\"decrease\", \"increase\"]')\n",
    "\n",
    "        if type(buy_periods) != int or buy_periods <= 0 or type(sell_periods) != int or sell_period <= 0:\n",
    "            raise Exception('second element of each tuple needs to be a positive integer')\n",
    "\n",
    "        #set variables\n",
    "        self.buy_dir = buy_dir\n",
    "        self.buy_periods = buy_periods\n",
    "        self.sell_dir = sell_dir\n",
    "        self.sell_periods = sell_periods"
   ]
  },
  {
   "cell_type": "code",
   "execution_count": null,
   "id": "963f2506-1d76-4f4d-bd7f-0600c5ca48c9",
   "metadata": {},
   "outputs": [],
   "source": []
  }
 ],
 "metadata": {
  "kernelspec": {
   "display_name": "Python 3 (ipykernel)",
   "language": "python",
   "name": "python3"
  },
  "language_info": {
   "codemirror_mode": {
    "name": "ipython",
    "version": 3
   },
   "file_extension": ".py",
   "mimetype": "text/x-python",
   "name": "python",
   "nbconvert_exporter": "python",
   "pygments_lexer": "ipython3",
   "version": "3.10.11"
  }
 },
 "nbformat": 4,
 "nbformat_minor": 5
}
