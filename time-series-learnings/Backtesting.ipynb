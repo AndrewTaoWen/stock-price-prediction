{
 "cells": [
  {
   "cell_type": "code",
   "execution_count": 7,
   "id": "8b1836b3-bc52-402a-b898-2e04962e21d1",
   "metadata": {},
   "outputs": [],
   "source": [
    "import yfinance as yf\n",
    "import matplotlib.pyplot as plt\n",
    "import pandas as pd\n",
    "import numpy as np\n",
    "from datetime import date, timedelta, datetime\n",
    "from time import time\n",
    "from scipy.stats import pearsonr\n",
    "from dataclasses import dataclass\n",
    "import seaborn as sns"
   ]
  },
  {
   "cell_type": "code",
   "execution_count": 8,
   "id": "a3ae40ec-872d-4bfc-a1f3-800ef3b1ed09",
   "metadata": {},
   "outputs": [],
   "source": [
    "symbol = 'MSFT'"
   ]
  },
  {
   "cell_type": "markdown",
   "id": "a9c2e1d9-9134-4e5e-8435-95601f0fd1b5",
   "metadata": {},
   "source": [
    "**Driver Code**"
   ]
  },
  {
   "cell_type": "code",
   "execution_count": 9,
   "id": "0e029daa-adcb-45fd-ae5a-047eb1a03460",
   "metadata": {},
   "outputs": [],
   "source": [
    "def date_to_str(d):\n",
    "    return f'{d.year}-{d.month}-{d.day}'"
   ]
  },
  {
   "cell_type": "code",
   "execution_count": 43,
   "id": "ff8afd87-9892-4468-913f-01675581410e",
   "metadata": {},
   "outputs": [],
   "source": [
    "#get the historical prices for a stock\n",
    "def get_ticker_data(symbol, start=None, end=None):\n",
    "    try:\n",
    "        ticker = yf.Ticker(symbol)\n",
    "        hist = ticker.history(start=start, end=end, interval='1d').Close\n",
    "        hist = hist[~hist.isna()]\n",
    "        \n",
    "        #day-to-day price difference\n",
    "        diffs = hist.diff()\n",
    "        hist = hist.reset_index()\n",
    "        hist['price_change'] = diffs.values\n",
    "        \n",
    "        #cast datetime to date\n",
    "        hist.Date = hist.Date.apply(lambda d: d.date())\n",
    "    except:\n",
    "        return None\n",
    "    return hist.dropna()"
   ]
  },
  {
   "cell_type": "code",
   "execution_count": 44,
   "id": "10788e04-b7c4-4482-806f-26c56cc64857",
   "metadata": {},
   "outputs": [],
   "source": [
    "#this class defines a stock trading strategy\n",
    "class Strategy:\n",
    "    def __init__(self, buy_condition: tuple, sell_condition: tuple):\n",
    "        #check that both args are size 2 tuples\n",
    "        if type(buy_condition) != tuple or len(buy_condition) != 2 or type(sell_condition) != tuple or len(sell_condition) != 2:\n",
    "            raise Exception('buy_condition and sell_condition should each be size 2 tuples')\n",
    "        buy_dir, buy_periods = buy_condition\n",
    "        sell_dir, sell_periods = sell_condition\n",
    "        \n",
    "        #check that the buy and sell condition are increase or decrease\n",
    "        if buy_dir not in ['decrease', 'increase'] or sell_dir not in ['decrease', 'increase']:\n",
    "            raise Exception('first element of each tuple needs to be one of [\"decrease\", \"increase\"]')\n",
    "            \n",
    "        #check that the buy or sell periods are positve integers\n",
    "        if type(buy_periods) != int or buy_periods <= 0 or type(sell_periods) != int or sell_periods <= 0:\n",
    "            raise TypeError('second element of each tuple needs to be a positive integer')\n",
    "            \n",
    "        #set variables\n",
    "        self.buy_dir = buy_dir\n",
    "        self.buy_periods = buy_periods\n",
    "        self.sell_dir = sell_dir\n",
    "        self.sell_periods = sell_periods"
   ]
  },
  {
   "cell_type": "code",
   "execution_count": 45,
   "id": "963f2506-1d76-4f4d-bd7f-0600c5ca48c9",
   "metadata": {},
   "outputs": [],
   "source": [
    "def execute_strategy(history, strategy, debug=False):\n",
    "    #start with $100 and no shares, remember inital value\n",
    "    curr_value = 100\n",
    "    initial_value = curr_value\n",
    "    n_shares = 0\n",
    "    \n",
    "    #whether or not we're currently holding shares of the stock\n",
    "    currently_holding = False\n",
    "    \n",
    "    #number of periods price has decreased or increased\n",
    "    n_periods_dec = 0\n",
    "    n_periods_inc = 0\n",
    "    \n",
    "    #backtest our strategy day-by-day\n",
    "    for i,row in history.iterrows():\n",
    "        \n",
    "        #update periods of consecutive increasing or decreasing price\n",
    "        if row.price_change < 0:\n",
    "            n_periods_dec += 1\n",
    "            n_periods_inc = 0\n",
    "        elif row.price_change > 0:\n",
    "            n_periods_inc += 1\n",
    "            n_periods_dec = 0\n",
    "        \n",
    "        #try to buy only if we aren't currently holding shares\n",
    "        if currently_holding == False:\n",
    "            #buy only if the strategy's buy condition is met\n",
    "            if (strategy.buy_dir == 'decrease' and n_periods_dec == strategy.buy_periods) or (strategy.buy_dir == 'increase' and n_periods_inc == strategy.buy_periods):\n",
    "                #calulate number of shares we can buy \n",
    "                n_shares = curr_value / row.Close\n",
    "                if debug:\n",
    "                    print(f'bought {round(n_shares,2)} shares for ${round(row.Close, 2)} each on {row.Date}\\n')\n",
    "                #we now have no money and are holding shares, and reset periods of increasing or decreasing\n",
    "                curr_value = 0\n",
    "                n_periods_dec = 0\n",
    "                n_periods_inc = 0\n",
    "                currently_holding = True\n",
    "        \n",
    "                \n",
    "        #try to sell only if we are currently holding shares\n",
    "        if currently_holding == True:\n",
    "            #sell only if the strategy's sell condition is met\n",
    "            if (strategy.sell_dir == 'decrease' and n_periods_dec == strategy.sell_periods) or (strategy.sell_dir == 'increase' and n_periods_inc == strategy.sell_periods):\n",
    "                #get value of shares now\n",
    "                curr_value = row.Close * n_shares\n",
    "                if debug:\n",
    "                    print(f'sold {round(n_shares,2)} shares for ${round(row.Close, 2)} each on {row.Date}\\n')\n",
    "                #we now own no shares, and reset periods of increasing or decreasing\n",
    "                n_shares = 0\n",
    "                n_periods_dec = 0\n",
    "                n_periods_inc = 0\n",
    "                currently_holding = False\n",
    "                \n",
    "    #the final value is the max of money we have on hand and the money tied up in shares we currently own\n",
    "    final_val = max(curr_value, row.Close*n_shares)\n",
    "    \n",
    "    #return the percent change from initial value\n",
    "    return 100*(final_val / initial_value - 1)"
   ]
  },
  {
   "cell_type": "code",
   "execution_count": 46,
   "id": "27a47631-9fc4-47c1-b89a-32e0a81f7996",
   "metadata": {},
   "outputs": [],
   "source": [
    "buy_dec2_sell_inc2 = Strategy(buy_condition=('decrease', 2), sell_condition=('increase', 2))"
   ]
  },
  {
   "cell_type": "code",
   "execution_count": 47,
   "id": "49b5dc11-3f38-4c80-8e67-5ce572995390",
   "metadata": {},
   "outputs": [],
   "source": [
    "buy_dec5_sell_inc5 = Strategy(buy_condition=('decrease', 5), sell_condition=('increase', 5))"
   ]
  },
  {
   "cell_type": "code",
   "execution_count": 48,
   "id": "c7a29f2f-ab53-44bf-bd34-0bcdc47cf075",
   "metadata": {},
   "outputs": [],
   "source": [
    "strategies = {'buy_dec2_sell_inc2' : buy_dec2_sell_inc2, 'buy_dec5_sell_inc5' : buy_dec5_sell_inc5}\n",
    "    "
   ]
  },
  {
   "cell_type": "markdown",
   "id": "fb0f8984-035d-4f11-b76b-d4836c2dbe4c",
   "metadata": {},
   "source": [
    "**Backtests**"
   ]
  },
  {
   "cell_type": "code",
   "execution_count": 49,
   "id": "cc3bdfe3-d3fa-49e3-8014-bed9e3a9cb91",
   "metadata": {},
   "outputs": [
    {
     "name": "stdout",
     "output_type": "stream",
     "text": [
      "           Date       Close  price_change\n",
      "1    2023-01-04  227.086456    -10.387878\n",
      "2    2023-01-05  220.356125     -6.730331\n",
      "3    2023-01-06  222.953079      2.596954\n",
      "4    2023-01-09  225.123840      2.170761\n",
      "5    2023-01-10  226.838638      1.714798\n",
      "..          ...         ...           ...\n",
      "245  2023-12-22  374.579987      1.039978\n",
      "246  2023-12-26  374.660004      0.080017\n",
      "247  2023-12-27  374.070007     -0.589996\n",
      "248  2023-12-28  375.279999      1.209991\n",
      "249  2023-12-29  376.040009      0.760010\n",
      "\n",
      "[249 rows x 3 columns]\n"
     ]
    }
   ],
   "source": [
    "#initializations\n",
    "time_range = 30\n",
    "all_dates = [date(2023,1,1) + timedelta(i) for i in range(365)]\n",
    "history = get_ticker_data(symbol, start=date_to_str(all_dates[0]), end=date_to_str(all_dates[-1]))\n",
    "print(history)"
   ]
  },
  {
   "cell_type": "code",
   "execution_count": 56,
   "id": "055ebbc1-1337-47a1-b0ee-ba4ec8ef268a",
   "metadata": {},
   "outputs": [],
   "source": [
    "results = {k: [] for k in strategies.keys()}\n",
    "\n",
    "for start_date in all_dates[:-time_range]:\n",
    "    end_date = start_date + timedelta(days=time_range)\n",
    "    history_lim = history[(history.Date >= start_date) & (history.Date <= end_date)]\n",
    "    start_date = date_to_str(start_date)\n",
    "    end_date = date_to_str(end_date)\n",
    "    \n",
    "    for name, strategy in strategies.items():\n",
    "        return_pct = execute_strategy(history_lim, strategy, debug=False)\n",
    "        results[name].append(return_pct)"
   ]
  },
  {
   "cell_type": "code",
   "execution_count": 58,
   "id": "c9780168-9e4b-470a-a336-3eb918f1fdcf",
   "metadata": {},
   "outputs": [
    {
     "name": "stdout",
     "output_type": "stream",
     "text": [
      "{'buy_dec2_sell_inc2': [], 'buy_dec5_sell_inc5': []}\n"
     ]
    }
   ],
   "source": [
    "print(results)"
   ]
  },
  {
   "cell_type": "code",
   "execution_count": null,
   "id": "cb1e12db-70cc-41e5-b83e-dc56cdeada37",
   "metadata": {},
   "outputs": [],
   "source": []
  }
 ],
 "metadata": {
  "kernelspec": {
   "display_name": "Python 3 (ipykernel)",
   "language": "python",
   "name": "python3"
  },
  "language_info": {
   "codemirror_mode": {
    "name": "ipython",
    "version": 3
   },
   "file_extension": ".py",
   "mimetype": "text/x-python",
   "name": "python",
   "nbconvert_exporter": "python",
   "pygments_lexer": "ipython3",
   "version": "3.10.11"
  }
 },
 "nbformat": 4,
 "nbformat_minor": 5
}
