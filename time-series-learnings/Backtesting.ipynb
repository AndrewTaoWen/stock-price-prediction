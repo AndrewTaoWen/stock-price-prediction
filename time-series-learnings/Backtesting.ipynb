{
 "cells": [
  {
   "cell_type": "code",
   "execution_count": 1,
   "id": "8b1836b3-bc52-402a-b898-2e04962e21d1",
   "metadata": {},
   "outputs": [],
   "source": [
    "import yfinance as yf\n",
    "import matplotlib.pyplot as plt\n",
    "import pandas as pd\n",
    "import numpy as np\n",
    "from datetime import date, timedelta, datetime\n",
    "from time import time\n",
    "from scipy.stats import pearsonr\n",
    "from dataclasses import dataclass\n",
    "import seaborn as sns"
   ]
  },
  {
   "cell_type": "code",
   "execution_count": 2,
   "id": "a3ae40ec-872d-4bfc-a1f3-800ef3b1ed09",
   "metadata": {},
   "outputs": [],
   "source": [
    "symbol = 'MSFT'"
   ]
  },
  {
   "cell_type": "markdown",
   "id": "a9c2e1d9-9134-4e5e-8435-95601f0fd1b5",
   "metadata": {},
   "source": [
    "**Driver Code**"
   ]
  },
  {
   "cell_type": "code",
   "execution_count": 3,
   "id": "0e029daa-adcb-45fd-ae5a-047eb1a03460",
   "metadata": {},
   "outputs": [],
   "source": [
    "def date_to_str(d):\n",
    "    return f'{d.year}-{d.month}-{d.day}'"
   ]
  },
  {
   "cell_type": "code",
   "execution_count": 4,
   "id": "ff8afd87-9892-4468-913f-01675581410e",
   "metadata": {},
   "outputs": [],
   "source": [
    "#get the historical prices for a stock\n",
    "def get_ticker_data(symbol, start=None, end=None):\n",
    "    try:\n",
    "        ticker = yf.Ticker(symbol)\n",
    "        hist = ticker.history(start=start, end=end, interval='1d').Close\n",
    "        hist = hist[~hist.isna()]\n",
    "        \n",
    "        #day-to-day price difference\n",
    "        diffs = hist.diff()\n",
    "        hist = hist.reset_index()\n",
    "        hist['price_change'] = diffs.values\n",
    "        \n",
    "        #cast datetime to date\n",
    "        hist.Date = hist.Date.apply(lambda d: d.date())\n",
    "    except:\n",
    "        return None\n",
    "    return hist.dropna()"
   ]
  },
  {
   "cell_type": "code",
   "execution_count": 5,
   "id": "10788e04-b7c4-4482-806f-26c56cc64857",
   "metadata": {},
   "outputs": [],
   "source": [
    "#this class defines a stock trading strategy\n",
    "class Strategy:\n",
    "    def __init__(self, buy_condition: tuple, sell_condition: tuple):\n",
    "        #check that both args are size 2 tuples\n",
    "        if type(buy_condition) != tuple or len(buy_condition) != 2 or type(sell_condition) != tuple or len(sell_condition) != 2:\n",
    "            raise Exception('buy_condition and sell_condition should each be size 2 tuples')\n",
    "        buy_dir, buy_periods = buy_condition\n",
    "        sell_dir, sell_periods = sell_condition\n",
    "        \n",
    "        #check that the buy and sell condition are increase or decrease\n",
    "        if buy_dir not in ['decrease', 'increase'] or sell_dir not in ['decrease', 'increase']:\n",
    "            raise Exception('first element of each tuple needs to be one of [\"decrease\", \"increase\"]')\n",
    "            \n",
    "        #check that the buy or sell periods are positve integers\n",
    "        if type(buy_periods) != int or buy_periods <= 0 or type(sell_periods) != int or sell_periods <= 0:\n",
    "            raise TypeError('second element of each tuple needs to be a positive integer')\n",
    "            \n",
    "        #set variables\n",
    "        self.buy_dir = buy_dir\n",
    "        self.buy_periods = buy_periods\n",
    "        self.sell_dir = sell_dir\n",
    "        self.sell_periods = sell_periods"
   ]
  },
  {
   "cell_type": "code",
   "execution_count": 6,
   "id": "963f2506-1d76-4f4d-bd7f-0600c5ca48c9",
   "metadata": {},
   "outputs": [],
   "source": [
    "def execute_strategy(history, strategy, debug=False):\n",
    "    #start with $100 and no shares, remember inital value\n",
    "    curr_value = 100\n",
    "    initial_value = curr_value\n",
    "    n_shares = 0\n",
    "    \n",
    "    #whether or not we're currently holding shares of the stock\n",
    "    currently_holding = False\n",
    "    \n",
    "    #number of periods price has decreased or increased\n",
    "    n_periods_dec = 0\n",
    "    n_periods_inc = 0\n",
    "    \n",
    "    #backtest our strategy day-by-day\n",
    "    for i,row in history.iterrows():\n",
    "        \n",
    "        #update periods of consecutive increasing or decreasing price\n",
    "        if row.price_change < 0:\n",
    "            n_periods_dec += 1\n",
    "            n_periods_inc = 0\n",
    "        elif row.price_change > 0:\n",
    "            n_periods_inc += 1\n",
    "            n_periods_dec = 0\n",
    "        \n",
    "        #try to buy only if we aren't currently holding shares\n",
    "        if currently_holding == False:\n",
    "            #buy only if the strategy's buy condition is met\n",
    "            if (strategy.buy_dir == 'decrease' and n_periods_dec == strategy.buy_periods) or (strategy.buy_dir == 'increase' and n_periods_inc == strategy.buy_periods):\n",
    "                #calulate number of shares we can buy \n",
    "                n_shares = curr_value / row.Close\n",
    "                if debug:\n",
    "                    print(f'bought {round(n_shares,2)} shares for ${round(row.Close, 2)} each on {row.Date}\\n')\n",
    "                #we now have no money and are holding shares, and reset periods of increasing or decreasing\n",
    "                curr_value = 0\n",
    "                n_periods_dec = 0\n",
    "                n_periods_inc = 0\n",
    "                currently_holding = True\n",
    "        \n",
    "                \n",
    "        #try to sell only if we are currently holding shares\n",
    "        if currently_holding == True:\n",
    "            #sell only if the strategy's sell condition is met\n",
    "            if (strategy.sell_dir == 'decrease' and n_periods_dec == strategy.sell_periods) or (strategy.sell_dir == 'increase' and n_periods_inc == strategy.sell_periods):\n",
    "                #get value of shares now\n",
    "                curr_value = row.Close * n_shares\n",
    "                if debug:\n",
    "                    print(f'sold {round(n_shares,2)} shares for ${round(row.Close, 2)} each on {row.Date}\\n')\n",
    "                #we now own no shares, and reset periods of increasing or decreasing\n",
    "                n_shares = 0\n",
    "                n_periods_dec = 0\n",
    "                n_periods_inc = 0\n",
    "                currently_holding = False\n",
    "                \n",
    "    #the final value is the max of money we have on hand and the money tied up in shares we currently own\n",
    "    final_val = max(curr_value, row.Close*n_shares)\n",
    "    \n",
    "    #return the percent change from initial value\n",
    "    return 100*(final_val / initial_value - 1)"
   ]
  },
  {
   "cell_type": "code",
   "execution_count": 7,
   "id": "c7a29f2f-ab53-44bf-bd34-0bcdc47cf075",
   "metadata": {},
   "outputs": [],
   "source": [
    "strategies = dict()\n",
    "\n",
    "for i in range(1,5):\n",
    "    for j in range(1,5):\n",
    "        s1 = Strategy(buy_condition=('increase', i), sell_condition=('increase', j)) #buy in when increased by i, sell when increased by j\n",
    "        s2 = Strategy(buy_condition=('increase', i), sell_condition=('decrease', j)) \n",
    "        s3 = Strategy(buy_condition=('decrease', i), sell_condition=('increase', j)) \n",
    "        s4 = Strategy(buy_condition=('decrease', i), sell_condition=('decrease', j)) \n",
    "        strategies[f'bi${i}si${j}'] = s1\n",
    "        strategies[f'bi${i}sd${j}'] = s2\n",
    "        strategies[f'bd${i}si${j}'] = s3\n",
    "        strategies[f'bd${i}sd${j}'] = s4\n",
    "\n",
    "    "
   ]
  },
  {
   "cell_type": "markdown",
   "id": "fb0f8984-035d-4f11-b76b-d4836c2dbe4c",
   "metadata": {},
   "source": [
    "**Backtests**"
   ]
  },
  {
   "cell_type": "code",
   "execution_count": 8,
   "id": "cc3bdfe3-d3fa-49e3-8014-bed9e3a9cb91",
   "metadata": {},
   "outputs": [
    {
     "name": "stdout",
     "output_type": "stream",
     "text": [
      "           Date       Close  price_change\n",
      "1    2023-01-04  227.086456    -10.387894\n",
      "2    2023-01-05  220.356110     -6.730347\n",
      "3    2023-01-06  222.953094      2.596985\n",
      "4    2023-01-09  225.123856      2.170761\n",
      "5    2023-01-10  226.838638      1.714783\n",
      "..          ...         ...           ...\n",
      "245  2023-12-22  374.579987      1.039978\n",
      "246  2023-12-26  374.660004      0.080017\n",
      "247  2023-12-27  374.070007     -0.589996\n",
      "248  2023-12-28  375.279999      1.209991\n",
      "249  2023-12-29  376.040009      0.760010\n",
      "\n",
      "[249 rows x 3 columns]\n"
     ]
    }
   ],
   "source": [
    "#initializations\n",
    "time_range = 30\n",
    "all_dates = [date(2023,1,1) + timedelta(i) for i in range(365)]\n",
    "history = get_ticker_data(symbol, start=date_to_str(all_dates[0]), end=date_to_str(all_dates[-1]))\n",
    "print(history)"
   ]
  },
  {
   "cell_type": "code",
   "execution_count": 9,
   "id": "055ebbc1-1337-47a1-b0ee-ba4ec8ef268a",
   "metadata": {},
   "outputs": [
    {
     "ename": "KeyboardInterrupt",
     "evalue": "",
     "output_type": "error",
     "traceback": [
      "\u001b[0;31m---------------------------------------------------------------------------\u001b[0m",
      "\u001b[0;31mKeyboardInterrupt\u001b[0m                         Traceback (most recent call last)",
      "Cell \u001b[0;32mIn[9], line 10\u001b[0m\n\u001b[1;32m      7\u001b[0m end_date \u001b[38;5;241m=\u001b[39m date_to_str(end_date)\n\u001b[1;32m      9\u001b[0m \u001b[38;5;28;01mfor\u001b[39;00m name, strategy \u001b[38;5;129;01min\u001b[39;00m strategies\u001b[38;5;241m.\u001b[39mitems():\n\u001b[0;32m---> 10\u001b[0m     return_pct \u001b[38;5;241m=\u001b[39m \u001b[43mexecute_strategy\u001b[49m\u001b[43m(\u001b[49m\u001b[43mhistory_lim\u001b[49m\u001b[43m,\u001b[49m\u001b[43m \u001b[49m\u001b[43mstrategy\u001b[49m\u001b[43m,\u001b[49m\u001b[43m \u001b[49m\u001b[43mdebug\u001b[49m\u001b[38;5;241;43m=\u001b[39;49m\u001b[38;5;28;43;01mFalse\u001b[39;49;00m\u001b[43m)\u001b[49m\n\u001b[1;32m     11\u001b[0m     results[name]\u001b[38;5;241m.\u001b[39mappend(return_pct)\n",
      "Cell \u001b[0;32mIn[6], line 15\u001b[0m, in \u001b[0;36mexecute_strategy\u001b[0;34m(history, strategy, debug)\u001b[0m\n\u001b[1;32m     12\u001b[0m n_periods_inc \u001b[38;5;241m=\u001b[39m \u001b[38;5;241m0\u001b[39m\n\u001b[1;32m     14\u001b[0m \u001b[38;5;66;03m#backtest our strategy day-by-day\u001b[39;00m\n\u001b[0;32m---> 15\u001b[0m \u001b[38;5;28;01mfor\u001b[39;00m i,row \u001b[38;5;129;01min\u001b[39;00m history\u001b[38;5;241m.\u001b[39miterrows():\n\u001b[1;32m     16\u001b[0m     \n\u001b[1;32m     17\u001b[0m     \u001b[38;5;66;03m#update periods of consecutive increasing or decreasing price\u001b[39;00m\n\u001b[1;32m     18\u001b[0m     \u001b[38;5;28;01mif\u001b[39;00m row\u001b[38;5;241m.\u001b[39mprice_change \u001b[38;5;241m<\u001b[39m \u001b[38;5;241m0\u001b[39m:\n\u001b[1;32m     19\u001b[0m         n_periods_dec \u001b[38;5;241m+\u001b[39m\u001b[38;5;241m=\u001b[39m \u001b[38;5;241m1\u001b[39m\n",
      "File \u001b[0;32m~/Library/Python/3.10/lib/python/site-packages/pandas/core/frame.py:1400\u001b[0m, in \u001b[0;36mDataFrame.iterrows\u001b[0;34m(self)\u001b[0m\n\u001b[1;32m   1398\u001b[0m using_cow \u001b[38;5;241m=\u001b[39m using_copy_on_write()\n\u001b[1;32m   1399\u001b[0m \u001b[38;5;28;01mfor\u001b[39;00m k, v \u001b[38;5;129;01min\u001b[39;00m \u001b[38;5;28mzip\u001b[39m(\u001b[38;5;28mself\u001b[39m\u001b[38;5;241m.\u001b[39mindex, \u001b[38;5;28mself\u001b[39m\u001b[38;5;241m.\u001b[39mvalues):\n\u001b[0;32m-> 1400\u001b[0m     s \u001b[38;5;241m=\u001b[39m \u001b[43mklass\u001b[49m\u001b[43m(\u001b[49m\u001b[43mv\u001b[49m\u001b[43m,\u001b[49m\u001b[43m \u001b[49m\u001b[43mindex\u001b[49m\u001b[38;5;241;43m=\u001b[39;49m\u001b[43mcolumns\u001b[49m\u001b[43m,\u001b[49m\u001b[43m \u001b[49m\u001b[43mname\u001b[49m\u001b[38;5;241;43m=\u001b[39;49m\u001b[43mk\u001b[49m\u001b[43m)\u001b[49m\u001b[38;5;241m.\u001b[39m__finalize__(\u001b[38;5;28mself\u001b[39m)\n\u001b[1;32m   1401\u001b[0m     \u001b[38;5;28;01mif\u001b[39;00m using_cow \u001b[38;5;129;01mand\u001b[39;00m \u001b[38;5;28mself\u001b[39m\u001b[38;5;241m.\u001b[39m_mgr\u001b[38;5;241m.\u001b[39mis_single_block:\n\u001b[1;32m   1402\u001b[0m         s\u001b[38;5;241m.\u001b[39m_mgr\u001b[38;5;241m.\u001b[39madd_references(\u001b[38;5;28mself\u001b[39m\u001b[38;5;241m.\u001b[39m_mgr)  \u001b[38;5;66;03m# type: ignore[arg-type]\u001b[39;00m\n",
      "File \u001b[0;32m~/Library/Python/3.10/lib/python/site-packages/pandas/core/series.py:511\u001b[0m, in \u001b[0;36mSeries.__init__\u001b[0;34m(self, data, index, dtype, name, copy, fastpath)\u001b[0m\n\u001b[1;32m    508\u001b[0m \u001b[38;5;28;01melse\u001b[39;00m:\n\u001b[1;32m    509\u001b[0m     data \u001b[38;5;241m=\u001b[39m sanitize_array(data, index, dtype, copy)\n\u001b[0;32m--> 511\u001b[0m     manager \u001b[38;5;241m=\u001b[39m \u001b[43mget_option\u001b[49m\u001b[43m(\u001b[49m\u001b[38;5;124;43m\"\u001b[39;49m\u001b[38;5;124;43mmode.data_manager\u001b[39;49m\u001b[38;5;124;43m\"\u001b[39;49m\u001b[43m)\u001b[49m\n\u001b[1;32m    512\u001b[0m     \u001b[38;5;28;01mif\u001b[39;00m manager \u001b[38;5;241m==\u001b[39m \u001b[38;5;124m\"\u001b[39m\u001b[38;5;124mblock\u001b[39m\u001b[38;5;124m\"\u001b[39m:\n\u001b[1;32m    513\u001b[0m         data \u001b[38;5;241m=\u001b[39m SingleBlockManager\u001b[38;5;241m.\u001b[39mfrom_array(data, index, refs\u001b[38;5;241m=\u001b[39mrefs)\n",
      "File \u001b[0;32m~/Library/Python/3.10/lib/python/site-packages/pandas/_config/config.py:261\u001b[0m, in \u001b[0;36mCallableDynamicDoc.__call__\u001b[0;34m(self, *args, **kwds)\u001b[0m\n\u001b[1;32m    260\u001b[0m \u001b[38;5;28;01mdef\u001b[39;00m \u001b[38;5;21m__call__\u001b[39m(\u001b[38;5;28mself\u001b[39m, \u001b[38;5;241m*\u001b[39margs, \u001b[38;5;241m*\u001b[39m\u001b[38;5;241m*\u001b[39mkwds) \u001b[38;5;241m-\u001b[39m\u001b[38;5;241m>\u001b[39m T:\n\u001b[0;32m--> 261\u001b[0m     \u001b[38;5;28;01mreturn\u001b[39;00m \u001b[38;5;28;43mself\u001b[39;49m\u001b[38;5;241;43m.\u001b[39;49m\u001b[38;5;18;43m__func__\u001b[39;49m\u001b[43m(\u001b[49m\u001b[38;5;241;43m*\u001b[39;49m\u001b[43margs\u001b[49m\u001b[43m,\u001b[49m\u001b[43m \u001b[49m\u001b[38;5;241;43m*\u001b[39;49m\u001b[38;5;241;43m*\u001b[39;49m\u001b[43mkwds\u001b[49m\u001b[43m)\u001b[49m\n",
      "File \u001b[0;32m~/Library/Python/3.10/lib/python/site-packages/pandas/_config/config.py:135\u001b[0m, in \u001b[0;36m_get_option\u001b[0;34m(pat, silent)\u001b[0m\n\u001b[1;32m    134\u001b[0m \u001b[38;5;28;01mdef\u001b[39;00m \u001b[38;5;21m_get_option\u001b[39m(pat: \u001b[38;5;28mstr\u001b[39m, silent: \u001b[38;5;28mbool\u001b[39m \u001b[38;5;241m=\u001b[39m \u001b[38;5;28;01mFalse\u001b[39;00m) \u001b[38;5;241m-\u001b[39m\u001b[38;5;241m>\u001b[39m Any:\n\u001b[0;32m--> 135\u001b[0m     key \u001b[38;5;241m=\u001b[39m \u001b[43m_get_single_key\u001b[49m\u001b[43m(\u001b[49m\u001b[43mpat\u001b[49m\u001b[43m,\u001b[49m\u001b[43m \u001b[49m\u001b[43msilent\u001b[49m\u001b[43m)\u001b[49m\n\u001b[1;32m    137\u001b[0m     \u001b[38;5;66;03m# walk the nested dict\u001b[39;00m\n\u001b[1;32m    138\u001b[0m     root, k \u001b[38;5;241m=\u001b[39m _get_root(key)\n",
      "File \u001b[0;32m~/Library/Python/3.10/lib/python/site-packages/pandas/_config/config.py:117\u001b[0m, in \u001b[0;36m_get_single_key\u001b[0;34m(pat, silent)\u001b[0m\n\u001b[1;32m    116\u001b[0m \u001b[38;5;28;01mdef\u001b[39;00m \u001b[38;5;21m_get_single_key\u001b[39m(pat: \u001b[38;5;28mstr\u001b[39m, silent: \u001b[38;5;28mbool\u001b[39m) \u001b[38;5;241m-\u001b[39m\u001b[38;5;241m>\u001b[39m \u001b[38;5;28mstr\u001b[39m:\n\u001b[0;32m--> 117\u001b[0m     keys \u001b[38;5;241m=\u001b[39m \u001b[43m_select_options\u001b[49m\u001b[43m(\u001b[49m\u001b[43mpat\u001b[49m\u001b[43m)\u001b[49m\n\u001b[1;32m    118\u001b[0m     \u001b[38;5;28;01mif\u001b[39;00m \u001b[38;5;28mlen\u001b[39m(keys) \u001b[38;5;241m==\u001b[39m \u001b[38;5;241m0\u001b[39m:\n\u001b[1;32m    119\u001b[0m         \u001b[38;5;28;01mif\u001b[39;00m \u001b[38;5;129;01mnot\u001b[39;00m silent:\n",
      "File \u001b[0;32m~/Library/Python/3.10/lib/python/site-packages/pandas/_config/config.py:578\u001b[0m, in \u001b[0;36m_select_options\u001b[0;34m(pat)\u001b[0m\n\u001b[1;32m    571\u001b[0m     _deprecated_options[key] \u001b[38;5;241m=\u001b[39m DeprecatedOption(key, msg, rkey, removal_ver)\n\u001b[1;32m    574\u001b[0m \u001b[38;5;66;03m#\u001b[39;00m\n\u001b[1;32m    575\u001b[0m \u001b[38;5;66;03m# functions internal to the module\u001b[39;00m\n\u001b[0;32m--> 578\u001b[0m \u001b[38;5;28;01mdef\u001b[39;00m \u001b[38;5;21m_select_options\u001b[39m(pat: \u001b[38;5;28mstr\u001b[39m) \u001b[38;5;241m-\u001b[39m\u001b[38;5;241m>\u001b[39m \u001b[38;5;28mlist\u001b[39m[\u001b[38;5;28mstr\u001b[39m]:\n\u001b[1;32m    579\u001b[0m \u001b[38;5;250m    \u001b[39m\u001b[38;5;124;03m\"\"\"\u001b[39;00m\n\u001b[1;32m    580\u001b[0m \u001b[38;5;124;03m    returns a list of keys matching `pat`\u001b[39;00m\n\u001b[1;32m    581\u001b[0m \n\u001b[1;32m    582\u001b[0m \u001b[38;5;124;03m    if pat==\"all\", returns all registered options\u001b[39;00m\n\u001b[1;32m    583\u001b[0m \u001b[38;5;124;03m    \"\"\"\u001b[39;00m\n\u001b[1;32m    584\u001b[0m     \u001b[38;5;66;03m# short-circuit for exact key\u001b[39;00m\n",
      "\u001b[0;31mKeyboardInterrupt\u001b[0m: "
     ]
    }
   ],
   "source": [
    "results = {k: [] for k in strategies.keys()}\n",
    "\n",
    "for start_date in all_dates[:-time_range]:\n",
    "    end_date = start_date + timedelta(days=time_range)\n",
    "    history_lim = history[(history.Date >= start_date) & (history.Date <= end_date)]\n",
    "    start_date = date_to_str(start_date)\n",
    "    end_date = date_to_str(end_date)\n",
    "    \n",
    "    for name, strategy in strategies.items():\n",
    "        return_pct = execute_strategy(history_lim, strategy, debug=False)\n",
    "        results[name].append(return_pct)"
   ]
  },
  {
   "cell_type": "code",
   "execution_count": null,
   "id": "cb1e12db-70cc-41e5-b83e-dc56cdeada37",
   "metadata": {},
   "outputs": [],
   "source": [
    "for name, returns in results.items():\n",
    "    distr_plot = sns.histplot(returns, kde=True, line_kws={'linewidth': 2}, color=colors[idx], stat='probability', bins=20)\n",
    "    max_y = max(max_y, distr_plot.get_ybound()[1])\n",
    "    idx += 1\n",
    "    legend.append(name)\n",
    "    min_return = min(min_return, np.min(returns))\n",
    "    max_return = max(max_return, np.max(returns))\n",
    "    \n",
    "    avg_return = np.mean(returns)\n",
    "    if avg_return > best_avg_return:\n",
    "        conclusion = f'ticker = {symbol}\\n{name} gives the best average return ({round(avg_return,2)}%)'\n",
    "        best_avg_return = avg_return\n",
    "plt.legend(legend, fontsize=16)\n",
    "plt.title(conclusion, fontsize=20)\n",
    "\n",
    "#draw vertical lines\n",
    "idx = 0\n",
    "plt.fill_betweenx([0,1], -100, 0, color='r', alpha=0.1)\n",
    "plt.fill_betweenx([0,1], 0, 100, color='g', alpha=0.1)\n",
    "plt.axvline(0, color='k', linestyle='--', linewidth=2, alpha=0.5)\n",
    "for name, returns in results.items():\n",
    "    plt.axvline(np.mean(returns), color=colors[idx], linestyle='--', linewidth=2)\n",
    "    idx += 1\n",
    "    \n",
    "plt.xlim(min_return, max_return)\n",
    "plt.ylim(0, max_y)\n",
    "\n",
    "plt.tight_layout()\n",
    "plt.xlabel('Return (%)', fontsize=20)\n",
    "plt.ylabel('Probability', fontsize=20)"
   ]
  },
  {
   "cell_type": "code",
   "execution_count": null,
   "id": "a0a9f3ad-8e2a-4870-82b8-9d6e6d7be6dd",
   "metadata": {},
   "outputs": [],
   "source": []
  }
 ],
 "metadata": {
  "kernelspec": {
   "display_name": "Python 3 (ipykernel)",
   "language": "python",
   "name": "python3"
  },
  "language_info": {
   "codemirror_mode": {
    "name": "ipython",
    "version": 3
   },
   "file_extension": ".py",
   "mimetype": "text/x-python",
   "name": "python",
   "nbconvert_exporter": "python",
   "pygments_lexer": "ipython3",
   "version": "3.10.11"
  }
 },
 "nbformat": 4,
 "nbformat_minor": 5
}
